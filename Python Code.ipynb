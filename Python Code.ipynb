{
 "cells": [
  {
   "cell_type": "markdown",
   "metadata": {},
   "source": [
    "# HR Database Design for Recuitment"
   ]
  },
  {
   "cell_type": "markdown",
   "metadata": {},
   "source": [
    "**Table of Content**\n",
    "- [1. **Loading Libraries and Functions**](#2.-Loading-Libraries-and-Functions): \n",
    "    - [1.1 Libraries](#Libraries): require updating `pandas` and `seaborn` to latest versions;\n",
    "    - [1.2 List of all Functions](#List-of-All-Functions): include all the functions defined in this Notebook;\n",
    "\n",
    "- [2. **Create Table and Data**](#1.-Add-Table-and-Data): run this for the first time. \n",
    "    - [2.1 Create table](#Create-Table)\n",
    "    - [2.2 Insert-Record](#Insert-Record)\n",
    "\n",
    "- [3. **RDB - Query Data and Transaction Support**](#3.-Query-Data)\n",
    "    - [3.1 query candidate/current Employee of a specific Role](#query-candidate/current-Employee-of-a-specific-Role)\n",
    "    - [3.2 register new candidates](#register-a-candidate:)\n",
    "    - [3.3 remove a candidate from table](#remove-a-candidate-from-table)\n",
    "    - [Application #1: Live Gender Pay Gap Reporting](#Application-#1:-Live-Gender-Pay-Gap-Reporting)\n",
    "    - [Application #2: Live Staff Stress Level Alert](#Application-#2:-Live-Staff-Stress-Level-Alert)\n",
    "    - [Application #3: Supply and Demand](#Application-#3:-Supply-and-Demand)\n",
    "- [4. **NoRDB - Document Database**](#4.-NonRDB-element)\n",
    "    - [Application #4: Select Employee](#Application-#4:-selecting-candidate)\n",
    "    \n",
    "- [5. **Backup SQL**](#5.-Backup-SQL)\n",
    "    \n",
    "For functions `get_data` to work, please load *list of all function* first.\n",
    "\n"
   ]
  },
  {
   "cell_type": "markdown",
   "metadata": {},
   "source": [
    "ER diagram\n",
    "![](ER.png)\n"
   ]
  },
  {
   "cell_type": "markdown",
   "metadata": {},
   "source": [
    "## 1. Add Table and Data"
   ]
  },
  {
   "cell_type": "markdown",
   "metadata": {},
   "source": [
    "#### Create Table"
   ]
  },
  {
   "cell_type": "code",
   "execution_count": 24,
   "metadata": {},
   "outputs": [
    {
     "data": {
      "text/html": [
       "<div>\n",
       "<style scoped>\n",
       "    .dataframe tbody tr th:only-of-type {\n",
       "        vertical-align: middle;\n",
       "    }\n",
       "\n",
       "    .dataframe tbody tr th {\n",
       "        vertical-align: top;\n",
       "    }\n",
       "\n",
       "    .dataframe thead th {\n",
       "        text-align: right;\n",
       "    }\n",
       "</style>\n",
       "<table border=\"1\" class=\"dataframe\">\n",
       "  <thead>\n",
       "    <tr style=\"text-align: right;\">\n",
       "      <th></th>\n",
       "      <th>Employee_ID</th>\n",
       "      <th>Name</th>\n",
       "      <th>Turnover_Intention</th>\n",
       "      <th>Gender</th>\n",
       "      <th>Salary</th>\n",
       "      <th>Role_Name</th>\n",
       "    </tr>\n",
       "  </thead>\n",
       "  <tbody>\n",
       "    <tr>\n",
       "      <th>12</th>\n",
       "      <td>20200013</td>\n",
       "      <td>Tamera Coleman</td>\n",
       "      <td>2</td>\n",
       "      <td>F</td>\n",
       "      <td>23000</td>\n",
       "      <td>Visualisation Artist</td>\n",
       "    </tr>\n",
       "    <tr>\n",
       "      <th>13</th>\n",
       "      <td>20200014</td>\n",
       "      <td>Glenn Atkinson</td>\n",
       "      <td>2</td>\n",
       "      <td>F</td>\n",
       "      <td>24000</td>\n",
       "      <td>Visualisation Artist</td>\n",
       "    </tr>\n",
       "    <tr>\n",
       "      <th>14</th>\n",
       "      <td>20200015</td>\n",
       "      <td>Olly Bryan</td>\n",
       "      <td>2</td>\n",
       "      <td>M</td>\n",
       "      <td>30000</td>\n",
       "      <td>Visualisation Artist</td>\n",
       "    </tr>\n",
       "    <tr>\n",
       "      <th>15</th>\n",
       "      <td>20200016</td>\n",
       "      <td>Harlen Richardson</td>\n",
       "      <td>2</td>\n",
       "      <td>F</td>\n",
       "      <td>50000</td>\n",
       "      <td>Visualisation Artist</td>\n",
       "    </tr>\n",
       "  </tbody>\n",
       "</table>\n",
       "</div>"
      ],
      "text/plain": [
       "    Employee_ID               Name  Turnover_Intention Gender  Salary  \\\n",
       "12     20200013     Tamera Coleman                   2      F   23000   \n",
       "13     20200014     Glenn Atkinson                   2      F   24000   \n",
       "14     20200015         Olly Bryan                   2      M   30000   \n",
       "15     20200016  Harlen Richardson                   2      F   50000   \n",
       "\n",
       "               Role_Name  \n",
       "12  Visualisation Artist  \n",
       "13  Visualisation Artist  \n",
       "14  Visualisation Artist  \n",
       "15  Visualisation Artist  "
      ]
     },
     "execution_count": 24,
     "metadata": {},
     "output_type": "execute_result"
    }
   ],
   "source": [
    "get_empl(\"artist\")"
   ]
  },
  {
   "cell_type": "code",
   "execution_count": null,
   "metadata": {},
   "outputs": [],
   "source": [
    "get_cand()"
   ]
  },
  {
   "cell_type": "code",
   "execution_count": null,
   "metadata": {},
   "outputs": [],
   "source": [
    "import sqlite3\n",
    "conn=sqlite3.connect(\"C:\\\\Users\\\\fl339\\\\OneDrive - University of Exeter\\\\Project\\\\HR Database\\\\RDBMS.db\")\n",
    "cur=conn.cursor()"
   ]
  },
  {
   "cell_type": "code",
   "execution_count": null,
   "metadata": {},
   "outputs": [],
   "source": [
    "qry= '''\n",
    "CREATE TABLE ROLES(\n",
    "Role_ID INTEGER PRIMARY KEY,\n",
    "Attrition INTEGER,\n",
    "Role_Name TEXT(30)\n",
    ");\n",
    "CREATE TABLE PSYCHOMETRIC(\n",
    "Applicant_ID INTEGER PRIMARY KEY REFERENCES CANDIDATES(Applicant_ID),\n",
    "Openness INTEGER,\n",
    "Neuroticism INTEGER,\n",
    "Conscientiousness INTEGER,\n",
    "Agreeableness INTEGER,\n",
    "Extraversion INTEGER\n",
    ");\n",
    "CREATE TABLE NUMERICAL_RATIONING(\n",
    "Applicant_ID INTEGER PRIMARY KEY REFERENCES CANDIDATES(Applicant_ID),\n",
    "Score INTEGER\n",
    ");\n",
    "CREATE TABLE INTERVIEW(\n",
    "Applicant_ID INTEGER PRIMARY KEY REFERENCES CANDIDATES(Applicant_ID),\n",
    "Review TEXT(3000)\n",
    ");\n",
    "CREATE TABLE COMPOSITE TEST(\n",
    "Applicant_ID INTEGER PRIMARY KEY REFERENCES CANDIDATES(Applicant_ID),\n",
    "Recommend_Role TEXT(60)\n",
    ");\n",
    "'''\n",
    "try:\n",
    "    cur.executescript(qry)\n",
    "    print('Table created successfully')\n",
    "except:\n",
    "    print('error in creating table')\n",
    "    conn.rollback()\n",
    "\n",
    "tables = tables_in_sqlite_db(conn)\n",
    "print(tables)"
   ]
  },
  {
   "cell_type": "code",
   "execution_count": null,
   "metadata": {},
   "outputs": [],
   "source": [
    "qry='''\n",
    "CREATE TABLE EMPLOYEES (\n",
    "Employee_ID INTEGER PRIMARY KEY,\n",
    "Name TEXT(30),\n",
    "Role INTEGER REFERENCES ROLES(Role_ID),\n",
    "Turnover_Intention INTEGER,\n",
    "Gender TEXT(1),\n",
    "Salary INTEGER\n",
    ");\n",
    "'''\n",
    "try:\n",
    "    cur.executescript(qry)\n",
    "    print(\"table added\")\n",
    "except sqlite3.Error as error:\n",
    "    print(\"not added,\",error)\n",
    "    conn.rollback()\n",
    "tables = tables_in_sqlite_db(conn)\n",
    "print(tables)"
   ]
  },
  {
   "cell_type": "code",
   "execution_count": null,
   "metadata": {},
   "outputs": [],
   "source": [
    "qry= '''\n",
    "CREATE TABLE TESTS(\n",
    "Role_ID INTEGER REFERENCES ROLES(Role_ID),\n",
    "Test_Used TEXT(30)\n",
    ");\n",
    "'''\n",
    "try:\n",
    "    cur.execute(qry)\n",
    "    print('Table created successfully')\n",
    "except:\n",
    "    print('error in creating table')\n",
    "    conn.rollback()\n",
    "\n",
    "tables = tables_in_sqlite_db(conn)\n",
    "print(tables)"
   ]
  },
  {
   "cell_type": "code",
   "execution_count": null,
   "metadata": {},
   "outputs": [],
   "source": [
    "qry='''\n",
    "CREATE TABLE CANDIDATES(\n",
    "Applicant_ID INTEGER PRIMARY KEY AUTOINCREMENT,\n",
    "Name TEXT(30),\n",
    "Role INTEGER REFERENCES ROLES(Role_ID),\n",
    "Gender TEXT(1)\n",
    ");\n",
    "'''\n",
    "try:\n",
    "    cur.execute(qry)\n",
    "    print('Table created successfully')\n",
    "except sqlite3.Error as error:\n",
    "    print('Notworking:(', error)\n",
    "    conn.rollback()"
   ]
  },
  {
   "cell_type": "code",
   "execution_count": null,
   "metadata": {},
   "outputs": [],
   "source": [
    "qry='''\n",
    "CREATE TABLE COMPOSITE(\n",
    "Applicant_ID INTEGER PRIMARY KEY,\n",
    "Recommend_Role INTEGER REFERENCES ROLES(Role_ID)\n",
    ");\n",
    "'''\n",
    "try:\n",
    "    cur.execute(qry)\n",
    "    print('Table created:)')\n",
    "except sqlite3.Error as error:\n",
    "    print('Notworking:(', error)\n",
    "    conn.rollback()"
   ]
  },
  {
   "cell_type": "code",
   "execution_count": null,
   "metadata": {},
   "outputs": [],
   "source": [
    "tables_in_sqlite_db(conn)"
   ]
  },
  {
   "cell_type": "markdown",
   "metadata": {},
   "source": [
    "#### Insert Record"
   ]
  },
  {
   "cell_type": "code",
   "execution_count": null,
   "metadata": {},
   "outputs": [],
   "source": [
    "# Employee Record\n",
    "qry=\"INSERT INTO EMPLOYEES(Employee_ID, Name, Role, Turnover_Intention, Gender, Salary) values (?,?,?,?,?,?);\"\n",
    "emRecord = [(20200001,\"Hector Richard\",1,9,\"M\",23000),\n",
    "            (20200002,\"Deacon Coates\",1,1,\"M\",24000),\n",
    "            (20200003,\"Jared Puckett\",1,2,\"M\",30000),\n",
    "            (20200004,\"Judah Haworth\",1,4,\"F\",50000),\n",
    "            (20200005,\"Dalton Herbert\",2,6,\"M\",23000),\n",
    "            (20200006,\"Arslan Glover\",2,2,\"M\",24000),\n",
    "            (20200007,\"Blake Alvarez\",2,2,\"M\",30000),\n",
    "            (20200008,\"Esmay Dejesus\",2,2,\"F\",50000),\n",
    "            (20200009,\"Donte Barnes\",3,2,\"M\",23000),\n",
    "            (20200010,\"Akbar Hunter\",3,2,\"M\",24000),\n",
    "            (20200011,\"Aahil Peters\",3,7,\"M\",30000),\n",
    "            (20200012,\"Tamia Wall\",3,2,\"F\",50000),\n",
    "            (20200013,\"Tamera Coleman\",4,2,\"F\",23000),\n",
    "            (20200014,\"Glenn Atkinson\",4,2,\"F\",24000),\n",
    "            (20200015,\"Olly Bryan\",4,2,\"M\",30000),\n",
    "            (20200016,\"Harlen Richardson\",4,2,\"F\",50000),\n",
    "            (20200017,\"Romeo Drake\",5,5,\"M\",23000),\n",
    "            (20200018,\"Lavinia Howell\",5,8,\"F\",24000),\n",
    "            (20200019,\"Star Michael\",5,9,\"F\",30000),\n",
    "            (20200020,\"Lyla O'Connor\",5,2,\"F\",50000)]\n",
    "try:\n",
    "    cur.executemany(qry, emRecord)\n",
    "    conn.commit()\n",
    "    print(\"Records is inserted successfully..committed\")\n",
    "except sqlite3.Error as error:\n",
    "    print ('Error in insert operation..rollback', error)\n",
    "    conn.rollback()"
   ]
  },
  {
   "cell_type": "code",
   "execution_count": null,
   "metadata": {},
   "outputs": [],
   "source": [
    "# Candidate Record\n",
    "qry=\"INSERT INTO CANDIDATES (Applicant_ID ,Name,Role,Gender) VALUES (?,?,?,?);\"\n",
    "apRecord=[(20210001, 'Nick Nilson', 1, 'M'),\n",
    "          (20210002, 'Alessio Richards', 2, 'M'),\n",
    "          (20210003, 'Connie Kennedy', 3, 'F'),\n",
    "          (20210004, 'Gilbert Jaramillo', 4, 'M'),\n",
    "          (20210005, 'Nojus Ford', 5, 'M'),\n",
    "          (20210006, 'Melina Johnston', 4, 'F'),\n",
    "          (20210007, 'Zacharia Duke', 0, 'F')]\n",
    "\n",
    "try:\n",
    "    cur.executemany(qry, apRecord)\n",
    "    conn.commit()\n",
    "    print(\"Record add successfully:)\")\n",
    "except sqlite3.Error as error:\n",
    "    print ('Error in insert operation..rollback', error)\n",
    "    conn.rollback()"
   ]
  },
  {
   "cell_type": "code",
   "execution_count": null,
   "metadata": {},
   "outputs": [],
   "source": [
    "# Test\n",
    "qry=\"INSERT INTO TESTS(Role_ID, Test_Used) VALUES (?,?)\"\n",
    "testrecord=[(1, 'Psychometric'),\n",
    "            (1, 'Interview'),\n",
    "            (3, 'Psychometric'),\n",
    "            (3, 'Interview'),\n",
    "            (3, 'Numerical Rationing'),\n",
    "            (2, 'Numerical Rationing'),\n",
    "            (2, 'Psychometric'),\n",
    "            (2, 'Interview'),\n",
    "            (4, 'Interview'),\n",
    "            (5, 'Interview'),\n",
    "            (0, 'Comprehensive Test')]\n",
    "\n",
    "try:\n",
    "    cur.executemany(qry, testrecord)\n",
    "    conn.commit()\n",
    "    print(\"Record added successfully:)\")\n",
    "except sqlite3.Error as error:\n",
    "    print ('Error in insert operation..rollback', error)\n",
    "    conn.rollback()"
   ]
  },
  {
   "cell_type": "code",
   "execution_count": null,
   "metadata": {},
   "outputs": [],
   "source": [
    "# Role\n",
    "qry=\"INSERT INTO ROLES(Role_ID, Attrition, Role_Name) VALUES (?,?,?)\"\n",
    "record =[(1, 0.1, 'Marketing'),\n",
    "       (2, 0.3, 'Finance and Accounting'),\n",
    "       (3, 0.2, 'Consultant Analysts'),\n",
    "       (4, 0.1, 'Visualisation Artist'),\n",
    "       (5, 0.5, 'Database Architect'),\n",
    "       (0, 0.0, 'Unknown')]\n",
    "\n",
    "try:\n",
    "    cur.executemany(qry, record)\n",
    "    conn.commit()\n",
    "    print(\"Record added successfully:)\")\n",
    "except sqlite3.Error as error:\n",
    "    print ('Error in insert operation..rollback', error)\n",
    "    conn.rollback()\n"
   ]
  },
  {
   "cell_type": "code",
   "execution_count": null,
   "metadata": {},
   "outputs": [],
   "source": [
    "get_data(\"TESTS\")"
   ]
  },
  {
   "cell_type": "code",
   "execution_count": null,
   "metadata": {},
   "outputs": [],
   "source": [
    "get_data(\"ROLES\")"
   ]
  },
  {
   "cell_type": "code",
   "execution_count": null,
   "metadata": {},
   "outputs": [],
   "source": [
    "qry=\"INSERT INTO PSYCHOMETRIC(Applicant_ID, Openness, Neuroticism, Conscientiousness, Agreeableness, Extraversion) VALUES (?,?,?,?,?,?)\"\n",
    "record = [(20210001,6,7, 1,  3, 5),\n",
    "    (20210002, 10, 4,7,1,5),\n",
    "       (20210003, 3, 0, 5, 2,7)]\n",
    "\n",
    "try:\n",
    "    cur.executemany(qry, record)\n",
    "    conn.commit()\n",
    "    print(\"Record added successfully:)\")\n",
    "except sqlite3.Error as error:\n",
    "    print ('Error in insert operation..rollback', error)\n",
    "    conn.rollback()"
   ]
  },
  {
   "cell_type": "code",
   "execution_count": null,
   "metadata": {},
   "outputs": [],
   "source": [
    "get_data(\"PSYCHOMETRIC\")"
   ]
  },
  {
   "cell_type": "code",
   "execution_count": null,
   "metadata": {},
   "outputs": [],
   "source": [
    "qry=\"INSERT INTO NUMERICAL_RATIONING(Applicant_ID, Score) VALUES (?,?)\"\n",
    "record = [(20210002,       77),\n",
    "       (20210003,       66)]\n",
    "\n",
    "try:\n",
    "    cur.executemany(qry, record)\n",
    "    conn.commit()\n",
    "    print(\"Record added successfully:)\")\n",
    "except sqlite3.Error as error:\n",
    "    print ('Error in insert operation..rollback', error)\n",
    "    conn.rollback()"
   ]
  },
  {
   "cell_type": "code",
   "execution_count": null,
   "metadata": {},
   "outputs": [],
   "source": [
    "get_data(\"NUMERICAL_RATIONING\")"
   ]
  },
  {
   "cell_type": "code",
   "execution_count": null,
   "metadata": {},
   "outputs": [],
   "source": [
    "qry=\"INSERT INTO INTERVIEW(Applicant_ID, Review) VALUES (?,?)\"\n",
    "record = [(20210001,\n",
    "        'Applies creative thinking to implement a vision for the company'),\n",
    "       (20210002,\n",
    "        'Continuously suggests new ideas in meetings and on projects'),\n",
    "       (20210003,\n",
    "        'Shows initiative with developing new ways of thinking to improve projects or company performance'),\n",
    "       (20210004,\n",
    "        'Effectively communicates with colleagues, supervisors, partners and customers'),\n",
    "       (20210005,\n",
    "        'Is a constructive communicator and is capable of discussing difficult issues effectively and to the point'),\n",
    "       (20210006,\n",
    "        'Admits mistakes and errors and informs others when unable to keep a commitment')\n",
    "]\n",
    "\n",
    "try:\n",
    "    cur.executemany(qry, record)\n",
    "    conn.commit()\n",
    "    print(\"Record added successfully:)\")\n",
    "except sqlite3.Error as error:\n",
    "    print ('Error in insert operation..rollback', error)\n",
    "    conn.rollback()"
   ]
  },
  {
   "cell_type": "code",
   "execution_count": null,
   "metadata": {},
   "outputs": [],
   "source": [
    "qry=\"INSERT INTO COMPOSITE(Applicant_ID, Recommend_Role) VALUES (?,?)\"\n",
    "record = [( 20210007, 5)\n",
    "]\n",
    "\n",
    "try:\n",
    "    cur.executemany(qry, record)\n",
    "    conn.commit()\n",
    "    print(\"Record added successfully:)\")\n",
    "except sqlite3.Error as error:\n",
    "    print ('Error in insert operation..rollback', error)\n",
    "    conn.rollback()"
   ]
  },
  {
   "cell_type": "code",
   "execution_count": null,
   "metadata": {},
   "outputs": [],
   "source": [
    "tables = tables_in_sqlite_db(conn)\n",
    "print(tables)"
   ]
  },
  {
   "cell_type": "markdown",
   "metadata": {},
   "source": [
    "## 2. Loading Libraries and Functions"
   ]
  },
  {
   "cell_type": "markdown",
   "metadata": {},
   "source": [
    "Seaborn requires update everytime..."
   ]
  },
  {
   "cell_type": "code",
   "execution_count": null,
   "metadata": {},
   "outputs": [],
   "source": [
    "pip install --upgrade pandas"
   ]
  },
  {
   "cell_type": "code",
   "execution_count": null,
   "metadata": {},
   "outputs": [],
   "source": [
    "pip install seaborn --upgrade"
   ]
  },
  {
   "cell_type": "markdown",
   "metadata": {},
   "source": [
    "#### Libraries"
   ]
  },
  {
   "cell_type": "code",
   "execution_count": null,
   "metadata": {},
   "outputs": [],
   "source": [
    "import sqlite3\n",
    "conn=sqlite3.connect(\"C:\\\\Users\\\\fl339\\\\OneDrive - University of Exeter\\\\Project\\\\HR Database\\\\RDBMS.db\")\n",
    "cur=conn.cursor()"
   ]
  },
  {
   "cell_type": "code",
   "execution_count": null,
   "metadata": {},
   "outputs": [],
   "source": [
    "import pymongo\n",
    "mongoclient = pymongo.MongoClient(\"mongodb://localhost:7000/\")"
   ]
  },
  {
   "cell_type": "code",
   "execution_count": null,
   "metadata": {},
   "outputs": [],
   "source": [
    "import seaborn as sns\n",
    "import matplotlib.pyplot as plt\n",
    "import pandas as pd\n",
    "\n",
    "sns.__version__\n",
    "# Latest Version Should be 0.11.1"
   ]
  },
  {
   "cell_type": "code",
   "execution_count": null,
   "metadata": {},
   "outputs": [],
   "source": [
    "pd.__version__\n",
    "#lastest version is 1.2.4"
   ]
  },
  {
   "cell_type": "markdown",
   "metadata": {},
   "source": [
    "#### List of All Functions"
   ]
  },
  {
   "cell_type": "code",
   "execution_count": null,
   "metadata": {},
   "outputs": [],
   "source": [
    "# All Function Defined in This Work\n",
    "\n",
    "# Function to Show Table\n",
    "get_data = lambda tbname: pd.read_sql_query(\"SELECT * FROM \" + tbname, conn)\n",
    "\n",
    "# Delete Table Function\n",
    "table_name = \"\"\n",
    "def del_table(table_name):\n",
    "    try:\n",
    "        conn.execute('DROP TABLE IF EXISTS '+ table_name +\";\")\n",
    "        print(\"table deleted\")\n",
    "    except sqlite3.Error as error:\n",
    "        print(\"not working!\", error)\n",
    "    tables_in_sqlite_db(conn)\n",
    "    print(tables)\n",
    "    \n",
    "# show all tables\n",
    "def tables_in_sqlite_db(conn):\n",
    "    cursor = conn.execute(\"SELECT name FROM sqlite_master WHERE type='table';\")\n",
    "    tables = [\n",
    "        v[0] for v in cursor.fetchall()\n",
    "        if v[0] != \"sqlite_sequence\"\n",
    "    ]\n",
    "    cursor.close()\n",
    "    return tables\n",
    "## remove space in strings\n",
    "def remove(string):\n",
    "    return string.replace(\" \", \"\")\n",
    "\n",
    "#Function to delete data\n",
    "def del_candidate(inputNumber):\n",
    "    qry='delete from CANDIDATES where Applicant_ID=?'\n",
    "    try:\n",
    "        cur.execute(qry, (inputNumber,))\n",
    "        print ('Candidate deleted')\n",
    "        conn.commit()\n",
    "    except sqlite3.Error as error:\n",
    "        print ('Error in deleting candidate', inputName)\n",
    "        conn.rollback()\n",
    "    return\n",
    "\n",
    "# Employee Data\n",
    "def get_empl(role = None):\n",
    "    df0 = get_data(\"EMPLOYEES\")\n",
    "    roes1 = get_data('ROLES')\n",
    "    if role == None:\n",
    "        return df0.merge(right = roes1, how = \"inner\", left_on = 'Role', right_on = \"Role_ID\").drop([\"Role\", \"Role_ID\",\"Attrition\"], axis = 1)\n",
    "    else:\n",
    "        df = df0.merge(right = roes1, how = \"inner\", left_on = 'Role', right_on = \"Role_ID\").drop([\"Role\", \"Role_ID\",\"Attrition\"], axis = 1)\n",
    "        return df[df[\"Role_Name\"].str.contains(role.capitalize())]\n",
    "    \n",
    "# Candidate Data by role\n",
    "def get_cand(role = None):\n",
    "    df0 = get_data(\"CANDIDATES\")\n",
    "    roes1 = get_data('ROLES')\n",
    "    if role == None:\n",
    "        return df0.merge(right = roes1, how = \"inner\", left_on = 'Role', right_on = \"Role_ID\").drop([\"Role\", \"Attrition\"], axis = 1)\n",
    "    else:\n",
    "        df = df0.merge(right = roes1, how = \"inner\", left_on = 'Role', right_on = \"Role_ID\").drop([\"Role\", \"Attrition\"], axis = 1)\n",
    "        pass # add function to qurey test data\n",
    "        return df[df[\"Role_Name\"].str.contains(role.capitalize())]\n",
    "# *Capital Prove + Keyword Proof\n",
    "\n",
    "\n",
    "#### for NonRDB \n",
    "# define function to retrive a candidate profile from JSON file\n",
    "def cand_profile(keywords = None):\n",
    "    if keywords is None:\n",
    "        candy = mongoclient[\"HR_Database\"][\"CANDIDATES\"].find()\n",
    "        for i in candy:\n",
    "            i = json.dumps(i, indent=2)\n",
    "            print(i)\n",
    "    elif type(keywords) == int:\n",
    "        \n",
    "        candy = mongoclient[\"HR_Database\"][\"CANDIDATES\"].find({\"_id\": keywords})\n",
    "        for i in candy:\n",
    "            i = json.dumps(i, indent=2)\n",
    "            print(i)\n",
    "    else: \n",
    "        keywords = keywords.capitalize()\n",
    "        candy = mongoclient[\"HR_Database\"][\"CANDIDATES\"].find({\"$or\":[{\"Name\":{\"$regex\": keywords}}, {\"Role_Name\":{\"$regex\": keywords}}]} )\n",
    "        for i in candy:\n",
    "            i = json.dumps(i, indent=2)\n",
    "            print(i)\n",
    "\n",
    "\n",
    "    "
   ]
  },
  {
   "cell_type": "code",
   "execution_count": null,
   "metadata": {},
   "outputs": [],
   "source": [
    "tables = tables_in_sqlite_db(conn)\n",
    "print(tables)"
   ]
  },
  {
   "cell_type": "markdown",
   "metadata": {},
   "source": [
    "Those employee data were redomly assigned. Despite in real life the female are victims of sex discrimination but in our case, this is reversed. "
   ]
  },
  {
   "cell_type": "markdown",
   "metadata": {},
   "source": [
    "Can easily see \"Database Architect\" and \"Finance and Accounting\" urgently require recuitment. "
   ]
  },
  {
   "cell_type": "markdown",
   "metadata": {},
   "source": [
    "## 3. Query Data"
   ]
  },
  {
   "cell_type": "markdown",
   "metadata": {},
   "source": [
    "#### query candidate/current Employee of a specific Role\n",
    "\n",
    "* Use `get_empl(\"keyword\")` to look for employee of a certain role. No arguement returned return all employees. \n",
    "* Use `get_cand(\"keyword\")` to look for candidates of a certain role. No arguement return all candidates. \n",
    "\n",
    "No need to imput full role names to acquire relevant data. Not distinguish capital letter."
   ]
  },
  {
   "cell_type": "code",
   "execution_count": null,
   "metadata": {},
   "outputs": [],
   "source": [
    "# Employee Data\n",
    "def get_empl(role = None):\n",
    "    df0 = get_data(\"EMPLOYEES\")\n",
    "    roes1 = get_data('ROLES')\n",
    "    if role == None:\n",
    "        return df0.merge(right = roes1, how = \"inner\", left_on = 'Role', right_on = \"Role_ID\").drop([\"Role\", \"Role_ID\",\"Attrition\"], axis = 1)\n",
    "    else:\n",
    "        df = df0.merge(right = roes1, how = \"inner\", left_on = 'Role', right_on = \"Role_ID\").drop([\"Role\", \"Role_ID\",\"Attrition\"], axis = 1)\n",
    "        return df[df[\"Role_Name\"].str.contains(role.capitalize())]\n",
    "# Candidate Data by role\n",
    "def get_cand(role = None):\n",
    "    df0 = get_data(\"CANDIDATES\")\n",
    "    roes1 = get_data('ROLES')\n",
    "    if role == None:\n",
    "        return df0.merge(right = roes1, how = \"inner\", left_on = 'Role', right_on = \"Role_ID\").drop([\"Role\", \"Attrition\"], axis = 1)\n",
    "    else:\n",
    "        df = df0.merge(right = roes1, how = \"inner\", left_on = 'Role', right_on = \"Role_ID\").drop([\"Role\", \"Attrition\"], axis = 1)\n",
    "        pass # add function to qurey test data\n",
    "        return df[df[\"Role_Name\"].str.contains(role.capitalize())]\n",
    "### Capital Prove + Keyword Proof"
   ]
  },
  {
   "cell_type": "code",
   "execution_count": null,
   "metadata": {},
   "outputs": [],
   "source": [
    "get_cand(\"market\")"
   ]
  },
  {
   "cell_type": "markdown",
   "metadata": {},
   "source": [
    "#### register a candidate:\n",
    "\n",
    "Run following code to register an candidate into database. "
   ]
  },
  {
   "cell_type": "code",
   "execution_count": 29,
   "metadata": {},
   "outputs": [
    {
     "name": "stdout",
     "output_type": "stream",
     "text": [
      "Enter your frist name: frank\n",
      "Enter your last name: liang \n",
      "Role number for the role you are applying for: \n",
      " 1. Marketing \n",
      " 2. Finance and Accoungting \n",
      " 3. Consultant Analyst \n",
      " 4. Visualsiation Artist \n",
      " 5. Database Architect \n",
      " 0. Not Sure/Unknown \n",
      "10\n",
      "Check role number again; A role number should be ranged from 0 to 5\n",
      "Enter role number again: 5\n",
      "Enter your gender(M/F):m\n",
      "entering... Frank Liang 5 M\n",
      "Record added successfully:)\n"
     ]
    },
    {
     "data": {
      "text/html": [
       "<div>\n",
       "<style scoped>\n",
       "    .dataframe tbody tr th:only-of-type {\n",
       "        vertical-align: middle;\n",
       "    }\n",
       "\n",
       "    .dataframe tbody tr th {\n",
       "        vertical-align: top;\n",
       "    }\n",
       "\n",
       "    .dataframe thead th {\n",
       "        text-align: right;\n",
       "    }\n",
       "</style>\n",
       "<table border=\"1\" class=\"dataframe\">\n",
       "  <thead>\n",
       "    <tr style=\"text-align: right;\">\n",
       "      <th></th>\n",
       "      <th>Applicant_ID</th>\n",
       "      <th>Name</th>\n",
       "      <th>Role</th>\n",
       "      <th>Gender</th>\n",
       "    </tr>\n",
       "  </thead>\n",
       "  <tbody>\n",
       "    <tr>\n",
       "      <th>0</th>\n",
       "      <td>20210001</td>\n",
       "      <td>Nick Nilson</td>\n",
       "      <td>1</td>\n",
       "      <td>M</td>\n",
       "    </tr>\n",
       "    <tr>\n",
       "      <th>1</th>\n",
       "      <td>20210002</td>\n",
       "      <td>Alessio Richards</td>\n",
       "      <td>2</td>\n",
       "      <td>M</td>\n",
       "    </tr>\n",
       "    <tr>\n",
       "      <th>2</th>\n",
       "      <td>20210003</td>\n",
       "      <td>Connie Kennedy</td>\n",
       "      <td>3</td>\n",
       "      <td>F</td>\n",
       "    </tr>\n",
       "    <tr>\n",
       "      <th>3</th>\n",
       "      <td>20210004</td>\n",
       "      <td>Gilbert Jaramillo</td>\n",
       "      <td>4</td>\n",
       "      <td>M</td>\n",
       "    </tr>\n",
       "    <tr>\n",
       "      <th>4</th>\n",
       "      <td>20210005</td>\n",
       "      <td>Nojus Ford</td>\n",
       "      <td>5</td>\n",
       "      <td>M</td>\n",
       "    </tr>\n",
       "    <tr>\n",
       "      <th>5</th>\n",
       "      <td>20210006</td>\n",
       "      <td>Melina Johnston</td>\n",
       "      <td>4</td>\n",
       "      <td>F</td>\n",
       "    </tr>\n",
       "    <tr>\n",
       "      <th>6</th>\n",
       "      <td>20210007</td>\n",
       "      <td>Zacharia Duke</td>\n",
       "      <td>0</td>\n",
       "      <td>F</td>\n",
       "    </tr>\n",
       "    <tr>\n",
       "      <th>7</th>\n",
       "      <td>20210017</td>\n",
       "      <td>Frank Liang</td>\n",
       "      <td>5</td>\n",
       "      <td>M</td>\n",
       "    </tr>\n",
       "    <tr>\n",
       "      <th>8</th>\n",
       "      <td>20210018</td>\n",
       "      <td>Frank Liang</td>\n",
       "      <td>5</td>\n",
       "      <td>M</td>\n",
       "    </tr>\n",
       "  </tbody>\n",
       "</table>\n",
       "</div>"
      ],
      "text/plain": [
       "   Applicant_ID               Name  Role Gender\n",
       "0      20210001        Nick Nilson     1      M\n",
       "1      20210002   Alessio Richards     2      M\n",
       "2      20210003     Connie Kennedy     3      F\n",
       "3      20210004  Gilbert Jaramillo     4      M\n",
       "4      20210005         Nojus Ford     5      M\n",
       "5      20210006    Melina Johnston     4      F\n",
       "6      20210007      Zacharia Duke     0      F\n",
       "7      20210017        Frank Liang     5      M\n",
       "8      20210018        Frank Liang     5      M"
      ]
     },
     "execution_count": 29,
     "metadata": {},
     "output_type": "execute_result"
    }
   ],
   "source": [
    "# define function to remove space\n",
    "def remove(string):\n",
    "    return string.replace(\" \", \"\")\n",
    "\n",
    "from threading import Timer\n",
    "# set timer for input\n",
    "timeout = 60\n",
    "t = Timer(timeout, print, ['Sorry, times up'])\n",
    "t.start()\n",
    "prompt = \"You have %d seconds to choose the correct answer...\\n\" % timeout\n",
    "# insert into candidate table \n",
    "try:\n",
    "    \n",
    "\n",
    "    iNameF= input('Enter your frist name: ').capitalize()\n",
    "    iNameL= input('Enter your last name: ').capitalize()\n",
    "    iNameF = remove(iNameF)\n",
    "    iNameL = remove(iNameL)\n",
    "\n",
    "    iName = iNameF + \" \" + iNameL\n",
    "\n",
    "    iRole=int(input(\"Role number for the role you are applying for: \\n 1. Marketing \\n 2. Finance and Accoungting \\n 3. Consultant Analyst \\n 4. Visualsiation Artist \\n 5. Database Architect \\n 0. Not Sure/Unknown \\n\"))\n",
    "\n",
    "# candidate has three chance to enter a correct number or number will be assigned 0 \n",
    "    i = 1 \n",
    "    while (iRole > 6) or (iRole < 0): \n",
    "        if i < 3:\n",
    "            print(\"Check role number again; A role number should be ranged from 0 to 5\")\n",
    "            iRole=int(input('Enter role number again: '))\n",
    "            i = i + 1\n",
    "        else: \n",
    "            iRole = 0\n",
    "            break\n",
    "\n",
    "    iGender = input('Enter your gender(M/F):').upper() #automatical to capital letter\n",
    "    iGender = remove(iGender)\n",
    "\n",
    "    print(\"entering...\", iName ,iRole, iGender)\n",
    "    \n",
    "\n",
    "    qry = 'INSERT INTO CANDIDATES(Name, Role, Gender) VALUES(?,?,?)'\n",
    "    try:\n",
    "        cur.execute(qry, (iName, iRole, iGender))\n",
    "        conn.commit()\n",
    "        print(\"Record added successfully:)\")\n",
    "    except sqlite3.Error as error:\n",
    "        print ('Error in insert operation..rollback', error)\n",
    "        conn.rollback()\n",
    "except: \n",
    "    print(\"interrupted, times out\")\n",
    "t.cancel()\n",
    "pd.read_sql_query(\"SELECT * FROM CANDIDATES\", conn)"
   ]
  },
  {
   "cell_type": "markdown",
   "metadata": {},
   "source": [
    "#### remove a candidate from table\n",
    "* Use function `del_candidate(applicant number)` to delete a candidate from CANDIDATES table (function defined). "
   ]
  },
  {
   "cell_type": "code",
   "execution_count": null,
   "metadata": {},
   "outputs": [],
   "source": [
    "#Function to remove a candidate from table\n",
    "def del_candidate(inputNumber):\n",
    "    qry='delete from CANDIDATES where Applicant_ID=?'\n",
    "    try:\n",
    "        cur.execute(qry, (inputNumber,))\n",
    "        print ('Candidate deleted')\n",
    "        conn.commit()\n",
    "    except sqlite3.Error as error:\n",
    "        print ('Error in deleting candidate', inputName)\n",
    "        conn.rollback()\n",
    "    return\n",
    "\n",
    "# Function to Show Table\n",
    "get_data = lambda tbname: pd.read_sql_query(\"SELECT * FROM \" + tbname, conn)"
   ]
  },
  {
   "cell_type": "code",
   "execution_count": null,
   "metadata": {},
   "outputs": [],
   "source": [
    "get_cand(\"artist\")\n",
    "del_candidate(20210016)"
   ]
  },
  {
   "cell_type": "markdown",
   "metadata": {},
   "source": [
    "*note:\n",
    "`get_data = lambda tbname: pd.read_sql_query(\"SELECT * FROM \" + tbname, conn)` Equal to\n",
    "```\n",
    "def get_data(tbname):\n",
    "    return pd.read_sql_query(\"SELECT * FROM \" + tbname, conn)\n",
    "```\n",
    "if you put return afterwards it won't display anything. "
   ]
  },
  {
   "cell_type": "markdown",
   "metadata": {},
   "source": [
    "##### Application #1: Live Gender Pay Gap Reporting\n",
    "\n",
    "Run following code to automatically generate gender pay gap reporting from `EMPLOYEES` table"
   ]
  },
  {
   "cell_type": "code",
   "execution_count": 25,
   "metadata": {},
   "outputs": [
    {
     "data": {
      "text/html": [
       "<div>\n",
       "<style scoped>\n",
       "    .dataframe tbody tr th:only-of-type {\n",
       "        vertical-align: middle;\n",
       "    }\n",
       "\n",
       "    .dataframe tbody tr th {\n",
       "        vertical-align: top;\n",
       "    }\n",
       "\n",
       "    .dataframe thead th {\n",
       "        text-align: right;\n",
       "    }\n",
       "</style>\n",
       "<table border=\"1\" class=\"dataframe\">\n",
       "  <thead>\n",
       "    <tr style=\"text-align: right;\">\n",
       "      <th></th>\n",
       "      <th>Male Salary</th>\n",
       "      <th>Female Salary</th>\n",
       "    </tr>\n",
       "  </thead>\n",
       "  <tbody>\n",
       "    <tr>\n",
       "      <th>0.25</th>\n",
       "      <td>23000.0</td>\n",
       "      <td>24000.0</td>\n",
       "    </tr>\n",
       "    <tr>\n",
       "      <th>0.50</th>\n",
       "      <td>24000.0</td>\n",
       "      <td>50000.0</td>\n",
       "    </tr>\n",
       "    <tr>\n",
       "      <th>0.75</th>\n",
       "      <td>30000.0</td>\n",
       "      <td>50000.0</td>\n",
       "    </tr>\n",
       "  </tbody>\n",
       "</table>\n",
       "</div>"
      ],
      "text/plain": [
       "      Male Salary  Female Salary\n",
       "0.25      23000.0        24000.0\n",
       "0.50      24000.0        50000.0\n",
       "0.75      30000.0        50000.0"
      ]
     },
     "execution_count": 25,
     "metadata": {},
     "output_type": "execute_result"
    }
   ],
   "source": [
    "df = pd.read_sql_query(\"SELECT * FROM EMPLOYEES\", conn)\n",
    "fltM = df[\"Gender\"] == \"M\"\n",
    "fltF = df[\"Gender\"] == \"F\"\n",
    "mq = df[fltM][[\"Salary\"]].quantile([.25, 0.5, 0.75])\n",
    "mq = mq.rename(columns = {\"Salary\":\"Male Salary\"})\n",
    "fq = df[fltF][[\"Salary\"]].quantile([.25, 0.5, 0.75])\n",
    "fq = fq.rename(columns = {\"Salary\":\"Female Salary\"})\n",
    "pd.concat([mq,fq],axis=1)"
   ]
  },
  {
   "cell_type": "code",
   "execution_count": 26,
   "metadata": {},
   "outputs": [
    {
     "data": {
      "image/png": "[encoded data removed]",
      "text/plain": [
       "<Figure size 504x288 with 1 Axes>"
      ]
     },
     "metadata": {},
     "output_type": "display_data"
    }
   ],
   "source": [
    "# a histogram of pay and gender\n",
    "sns.set_style(\"dark\",{\"axes.facecolor\": \".98\"})\n",
    "g = sns.histplot(data = df, x = \"Salary\", multiple = \"dodge\", hue = \"Gender\")"
   ]
  },
  {
   "cell_type": "markdown",
   "metadata": {},
   "source": [
    "##### Application #2: Live Staff Stress Level Alert\n",
    "\n",
    "Run following code to see which employee are most likey to burn-out. Based on Turnover_Intention ratings."
   ]
  },
  {
   "cell_type": "code",
   "execution_count": 27,
   "metadata": {},
   "outputs": [
    {
     "data": {
      "text/plain": [
       "Text(0.5, 1.0, 'Which Roles are most Stressful?')"
      ]
     },
     "execution_count": 27,
     "metadata": {},
     "output_type": "execute_result"
    },
    {
     "data": {
      "image/png": "[encoded data removed]",
      "text/plain": [
       "<Figure size 504x180 with 1 Axes>"
      ]
     },
     "metadata": {},
     "output_type": "display_data"
    }
   ],
   "source": [
    "# fetch data\n",
    "dfe = pd.read_sql_query(\"SELECT * FROM EMPLOYEES\", conn)\n",
    "dfc = pd.read_sql_query(\"SELECT * FROM CANDIDATES\", conn)\n",
    "role = pd.read_sql_query(\"SELECT * FROM ROLES\", conn)\n",
    "# transformation\n",
    "rodc = role[role[\"Role_Name\"]!= \"Unknown\"][\"Role_Name\"]\n",
    "dfbo = dfe.groupby([\"Role\"])[\"Turnover_Intention\"].mean()\n",
    "bt = pd.concat([rodc,dfbo], axis = 1)\n",
    "bt = bt.sort_values(\"Turnover_Intention\", ascending=False)\n",
    "\n",
    "sns.set(rc={'figure.figsize':(7, 2.5)})\n",
    "sns.set_style(\"dark\",{\"axes.facecolor\": \".98\"})\n",
    "ax = sns.barplot(data = bt, y = \"Role_Name\", x = \"Turnover_Intention\", \n",
    "                 orient = \"h\", palette = \"rocket\",\n",
    "                )\n",
    "ax.set_title(label = 'Which Roles are most Stressful?',fontsize=20)\n",
    "#ax.set_yticklabels(tickLabels) ## alternatively"
   ]
  },
  {
   "cell_type": "markdown",
   "metadata": {},
   "source": [
    "##### Application #3: Supply and Demand\n",
    "See if a role has been filed"
   ]
  },
  {
   "cell_type": "code",
   "execution_count": 30,
   "metadata": {},
   "outputs": [
    {
     "data": {
      "text/plain": [
       "Text(0.5, 1.0, 'Which Role Urgently Requires Hiring?')"
      ]
     },
     "execution_count": 30,
     "metadata": {},
     "output_type": "execute_result"
    },
    {
     "data": {
      "image/png": "[encoded data removed]",
      "text/plain": [
       "<Figure size 504x288 with 1 Axes>"
      ]
     },
     "metadata": {},
     "output_type": "display_data"
    }
   ],
   "source": [
    "# fetch data\n",
    "dfe = pd.read_sql_query(\"SELECT * FROM EMPLOYEES\", conn)\n",
    "dfc = pd.read_sql_query(\"SELECT * FROM CANDIDATES\", conn)\n",
    "# Transformation\n",
    "candidate = dfc.groupby([\"Role\"])[\"Applicant_ID\"].count()\n",
    "employee = dfe.groupby([\"Role\"])[\"Employee_ID\"].count()\n",
    "HRdf = pd.concat([candidate,employee], axis = 1)\n",
    "HRdf = pd.concat([HRdf, role], axis = 1)\n",
    "HRdf = HRdf.rename(columns = {\"Applicant_ID\": \"Total Applicant\", \"Employee_ID\":\"Total Employee\"})\n",
    "# a bit calculation\n",
    "HRdf[\"Job Vocancy\"] = HRdf[\"Total Employee\"]*HRdf[\"Attrition\"]\n",
    "HRf = HRdf[[\"Total Applicant\", \"Job Vocancy\", \"Role_Name\"]]\n",
    "\n",
    "HR = HRf.melt(id_vars = [\"Role_Name\"], var_name = \"type\", value_name = \"number of people\")\n",
    "# plot\n",
    "sns.set(rc={'figure.figsize':(7, 4)})\n",
    "sns.set_style(\"dark\",{\"axes.facecolor\": \".98\"})\n",
    "col0 = sns.color_palette(\"icefire\", 10)\n",
    "col = [col0[8], col0[0]]\n",
    "ax = sns.barplot(data = HR, y = \"Role_Name\", x = \"number of people\", hue = \"type\",\n",
    "           hue_order = [\"Job Vocancy\", \"Total Applicant\"],\n",
    "           orient = \"h\", \n",
    "           palette = col)\n",
    "plt.legend(loc = \"upper right\")\n",
    "ax.set_title(label = \"Which Role Urgently Requires Hiring?\", fontsize=20)"
   ]
  },
  {
   "cell_type": "code",
   "execution_count": null,
   "metadata": {},
   "outputs": [],
   "source": []
  },
  {
   "cell_type": "markdown",
   "metadata": {},
   "source": [
    "*what test should candidate take*"
   ]
  },
  {
   "cell_type": "code",
   "execution_count": null,
   "metadata": {},
   "outputs": [],
   "source": [
    "get_cand()"
   ]
  },
  {
   "cell_type": "markdown",
   "metadata": {},
   "source": [
    "# 4. NonRDB element"
   ]
  },
  {
   "cell_type": "markdown",
   "metadata": {},
   "source": [
    "#### Create Document Database"
   ]
  },
  {
   "cell_type": "code",
   "execution_count": 31,
   "metadata": {},
   "outputs": [
    {
     "name": "stdout",
     "output_type": "stream",
     "text": [
      "HR_Database\n",
      "admin\n",
      "config\n",
      "local\n",
      "myDB\n",
      "test_database\n"
     ]
    }
   ],
   "source": [
    "dblist = mongoclient.list_database_names()\n",
    "for x in dblist:\n",
    "    print(x)"
   ]
  },
  {
   "cell_type": "code",
   "execution_count": 32,
   "metadata": {},
   "outputs": [
    {
     "data": {
      "text/plain": [
       "<pymongo.results.InsertManyResult at 0x20ce9ec94c8>"
      ]
     },
     "execution_count": 32,
     "metadata": {},
     "output_type": "execute_result"
    }
   ],
   "source": [
    "# Create Table\n",
    "db = mongoclient[\"HR_Database\"]\n",
    "col = db[\"CANDIDATES\"]\n",
    "\n",
    "# clear content first\n",
    "mongoclient[\"HR_Database\"][\"CANDIDATES\"].drop()\n",
    "\n",
    "# transfer candidate to document database\n",
    "dfj = get_cand() #.drop([\"Role_ID\"], axis = 1)\n",
    "\n",
    "dfj = dfj.rename(columns = {\"Applicant_ID\":\"_id\"})\n",
    "dfj.set_index(\"_id\")\n",
    "dfj = dfj.to_json(orient = \"records\")\n",
    "\n",
    "import json\n",
    "\n",
    "dfj = json.loads(dfj)\n",
    "col.insert_many(dfj)"
   ]
  },
  {
   "cell_type": "code",
   "execution_count": 33,
   "metadata": {},
   "outputs": [],
   "source": [
    "## Match and Insert Test Results \n",
    "# Psychometric Test\n",
    "t_psy = get_data('PSYCHOMETRIC')\n",
    "list = t_psy[\"Applicant_ID\"]\n",
    "\n",
    "for i in list: \n",
    "    js = t_psy[t_psy[\"Applicant_ID\"] == i ].drop([\"Applicant_ID\"], axis = 1)\n",
    "    js = json.loads(js.to_json(orient = \"records\")[1:-1])\n",
    "    try : \n",
    "        fltr = { \"_id\": i }\n",
    "        update = {\"$set\": { \"Psychometric\": js}}\n",
    "        col.update_many(fltr, update)\n",
    "        \n",
    "    except: \n",
    "        print(\"Buhhhh\")\n",
    "        \n",
    "# Numerical Rationing \n",
    "t_nmr = get_data('NUMERICAL_RATIONING')\n",
    "list = t_nmr[\"Applicant_ID\"]\n",
    "for i in list: \n",
    "    js = t_nmr[t_nmr[\"Applicant_ID\"] == i ].drop([\"Applicant_ID\"], axis = 1)\n",
    "    js = json.loads(js.to_json(orient = \"records\")[1:-1])\n",
    "    \n",
    "    try : \n",
    "        fltr = { \"_id\": i }\n",
    "        update = {\"$set\": { \"Numerical Rationing Test\": js}}\n",
    "        col.update_many(fltr, update)\n",
    "        \n",
    "    except: \n",
    "        print(\"Buhhhh\")\n",
    "\n",
    "# Interview\n",
    "t_int = get_data(\"INTERVIEW\")\n",
    "list = t_int[\"Applicant_ID\"]\n",
    "\n",
    "for i in list: \n",
    "    js = t_int[t_int[\"Applicant_ID\"] == i ].drop([\"Applicant_ID\"], axis = 1)\n",
    "    js = json.loads(js.to_json(orient = \"records\")[1:-1])\n",
    "    \n",
    "    try : \n",
    "        fltr = { \"_id\": i }\n",
    "        update = {\"$set\": { \"Interview\": js}}\n",
    "        col.update_many(fltr, update)\n",
    "        \n",
    "    except: \n",
    "        print(\"Buhhhh\")\n",
    "\n",
    "# Composite Test\n",
    "t_cmp = get_data(\"COMPOSITE\")\n",
    "list = t_cmp[\"Applicant_ID\"]\n",
    "for i in list: \n",
    "    js = t_cmp[t_cmp[\"Applicant_ID\"] == i ].drop([\"Applicant_ID\"], axis = 1)\n",
    "    js = json.loads(js.to_json(orient = \"records\")[1:-1])\n",
    "    \n",
    "    try : \n",
    "        fltr = { \"_id\": i }\n",
    "        update = {\"$set\": { \"Composite Test\": js}}\n",
    "        col.update_many(fltr, update)\n",
    "        \n",
    "    except: \n",
    "        print(\"Buhhhh\")"
   ]
  },
  {
   "cell_type": "markdown",
   "metadata": {},
   "source": [
    "##### Application #4: selecting candidate\n"
   ]
  },
  {
   "cell_type": "markdown",
   "metadata": {},
   "source": [
    "`cand_profile(keyword)` was defined to retrive a candidate's imformation from document database. as defined keywords accept both intger value and string. "
   ]
  },
  {
   "cell_type": "code",
   "execution_count": 34,
   "metadata": {
    "scrolled": true
   },
   "outputs": [],
   "source": [
    "# define function to retrive a candidate profile from JSON file\n",
    "def cand_profile(keywords = None):\n",
    "    if keywords is None:\n",
    "        candy = mongoclient[\"HR_Database\"][\"CANDIDATES\"].find()\n",
    "        for i in candy:\n",
    "            i = json.dumps(i, indent=2)\n",
    "            print(i)\n",
    "    elif type(keywords) == int:\n",
    "        \n",
    "        candy = mongoclient[\"HR_Database\"][\"CANDIDATES\"].find({\"_id\": keywords})\n",
    "        for i in candy:\n",
    "            i = json.dumps(i, indent=2)\n",
    "            print(i)\n",
    "    else: \n",
    "        keywords = keywords.capitalize()\n",
    "        candy = mongoclient[\"HR_Database\"][\"CANDIDATES\"].find({\"$or\":[{\"Name\":{\"$regex\": keywords}}, {\"Role_Name\":{\"$regex\": keywords}}]} )\n",
    "        for i in candy:\n",
    "            i = json.dumps(i, indent=2)\n",
    "            print(i)\n"
   ]
  },
  {
   "cell_type": "code",
   "execution_count": 36,
   "metadata": {},
   "outputs": [
    {
     "name": "stdout",
     "output_type": "stream",
     "text": [
      "{\n",
      "  \"_id\": 20210004,\n",
      "  \"Name\": \"Gilbert Jaramillo\",\n",
      "  \"Gender\": \"M\",\n",
      "  \"Role_ID\": 4,\n",
      "  \"Role_Name\": \"Visualisation Artist\",\n",
      "  \"Interview\": {\n",
      "    \"Review\": \"Effectively communicates with colleagues, supervisors, partners and customers\"\n",
      "  }\n",
      "}\n"
     ]
    }
   ],
   "source": [
    "cand_profile(20210004)"
   ]
  },
  {
   "cell_type": "code",
   "execution_count": 37,
   "metadata": {},
   "outputs": [
    {
     "name": "stdout",
     "output_type": "stream",
     "text": [
      "{\n",
      "  \"_id\": 20210001,\n",
      "  \"Name\": \"Nick Nilson\",\n",
      "  \"Gender\": \"M\",\n",
      "  \"Role_ID\": 1,\n",
      "  \"Role_Name\": \"Marketing\",\n",
      "  \"Psychometric\": {\n",
      "    \"Openness\": 6,\n",
      "    \"Neuroticism\": 7,\n",
      "    \"Conscientiousness\": 1,\n",
      "    \"Agreeableness\": 3,\n",
      "    \"Extraversion\": 5\n",
      "  },\n",
      "  \"Interview\": {\n",
      "    \"Review\": \"Applies creative thinking to implement a vision for the company\"\n",
      "  }\n",
      "}\n",
      "{\n",
      "  \"_id\": 20210002,\n",
      "  \"Name\": \"Alessio Richards\",\n",
      "  \"Gender\": \"M\",\n",
      "  \"Role_ID\": 2,\n",
      "  \"Role_Name\": \"Finance and Accounting\",\n",
      "  \"Psychometric\": {\n",
      "    \"Openness\": 10,\n",
      "    \"Neuroticism\": 4,\n",
      "    \"Conscientiousness\": 7,\n",
      "    \"Agreeableness\": 1,\n",
      "    \"Extraversion\": 5\n",
      "  },\n",
      "  \"Numerical Rationing Test\": {\n",
      "    \"Score\": 77\n",
      "  },\n",
      "  \"Interview\": {\n",
      "    \"Review\": \"Continuously suggests new ideas in meetings and on projects\"\n",
      "  }\n",
      "}\n",
      "{\n",
      "  \"_id\": 20210003,\n",
      "  \"Name\": \"Connie Kennedy\",\n",
      "  \"Gender\": \"F\",\n",
      "  \"Role_ID\": 3,\n",
      "  \"Role_Name\": \"Consultant Analysts\",\n",
      "  \"Psychometric\": {\n",
      "    \"Openness\": 3,\n",
      "    \"Neuroticism\": 0,\n",
      "    \"Conscientiousness\": 5,\n",
      "    \"Agreeableness\": 2,\n",
      "    \"Extraversion\": 7\n",
      "  },\n",
      "  \"Numerical Rationing Test\": {\n",
      "    \"Score\": 66\n",
      "  },\n",
      "  \"Interview\": {\n",
      "    \"Review\": \"Shows initiative with developing new ways of thinking to improve projects or company performance\"\n",
      "  }\n",
      "}\n",
      "{\n",
      "  \"_id\": 20210004,\n",
      "  \"Name\": \"Gilbert Jaramillo\",\n",
      "  \"Gender\": \"M\",\n",
      "  \"Role_ID\": 4,\n",
      "  \"Role_Name\": \"Visualisation Artist\",\n",
      "  \"Interview\": {\n",
      "    \"Review\": \"Effectively communicates with colleagues, supervisors, partners and customers\"\n",
      "  }\n",
      "}\n",
      "{\n",
      "  \"_id\": 20210006,\n",
      "  \"Name\": \"Melina Johnston\",\n",
      "  \"Gender\": \"F\",\n",
      "  \"Role_ID\": 4,\n",
      "  \"Role_Name\": \"Visualisation Artist\",\n",
      "  \"Interview\": {\n",
      "    \"Review\": \"Admits mistakes and errors and informs others when unable to keep a commitment\"\n",
      "  }\n",
      "}\n",
      "{\n",
      "  \"_id\": 20210005,\n",
      "  \"Name\": \"Nojus Ford\",\n",
      "  \"Gender\": \"M\",\n",
      "  \"Role_ID\": 5,\n",
      "  \"Role_Name\": \"Database Architect\",\n",
      "  \"Interview\": {\n",
      "    \"Review\": \"Is a constructive communicator and is capable of discussing difficult issues effectively and to the point\"\n",
      "  }\n",
      "}\n",
      "{\n",
      "  \"_id\": 20210017,\n",
      "  \"Name\": \"Frank Liang\",\n",
      "  \"Gender\": \"M\",\n",
      "  \"Role_ID\": 5,\n",
      "  \"Role_Name\": \"Database Architect\"\n",
      "}\n",
      "{\n",
      "  \"_id\": 20210018,\n",
      "  \"Name\": \"Frank Liang\",\n",
      "  \"Gender\": \"M\",\n",
      "  \"Role_ID\": 5,\n",
      "  \"Role_Name\": \"Database Architect\"\n",
      "}\n",
      "{\n",
      "  \"_id\": 20210007,\n",
      "  \"Name\": \"Zacharia Duke\",\n",
      "  \"Gender\": \"F\",\n",
      "  \"Role_ID\": 0,\n",
      "  \"Role_Name\": \"Unknown\",\n",
      "  \"Composite Test\": {\n",
      "    \"Recommend_Role\": 5\n",
      "  }\n",
      "}\n"
     ]
    }
   ],
   "source": [
    "cand_profile()"
   ]
  },
  {
   "cell_type": "code",
   "execution_count": 38,
   "metadata": {},
   "outputs": [
    {
     "name": "stdout",
     "output_type": "stream",
     "text": [
      "{\n",
      "  \"_id\": 20210005,\n",
      "  \"Name\": \"Nojus Ford\",\n",
      "  \"Gender\": \"M\",\n",
      "  \"Role_ID\": 5,\n",
      "  \"Role_Name\": \"Database Architect\",\n",
      "  \"Interview\": {\n",
      "    \"Review\": \"Is a constructive communicator and is capable of discussing difficult issues effectively and to the point\"\n",
      "  }\n",
      "}\n",
      "{\n",
      "  \"_id\": 20210017,\n",
      "  \"Name\": \"Frank Liang\",\n",
      "  \"Gender\": \"M\",\n",
      "  \"Role_ID\": 5,\n",
      "  \"Role_Name\": \"Database Architect\"\n",
      "}\n",
      "{\n",
      "  \"_id\": 20210018,\n",
      "  \"Name\": \"Frank Liang\",\n",
      "  \"Gender\": \"M\",\n",
      "  \"Role_ID\": 5,\n",
      "  \"Role_Name\": \"Database Architect\"\n",
      "}\n"
     ]
    }
   ],
   "source": [
    "cand_profile(\"database\")"
   ]
  },
  {
   "cell_type": "code",
   "execution_count": 35,
   "metadata": {},
   "outputs": [
    {
     "name": "stdout",
     "output_type": "stream",
     "text": [
      "If Role ID is 0 please take \"Comprehensive Test\" test(s)\n",
      "If Role ID is 1 please take \"Psychometric\",\"Interview\" test(s)\n",
      "If Role ID is 2 please take \"Numerical Rationing\",\"Psychometric\",\"Interview\" test(s)\n",
      "If Role ID is 3 please take \"Psychometric\",\"Interview\",\"Numerical Rationing\" test(s)\n",
      "If Role ID is 4 please take \"Interview\" test(s)\n",
      "If Role ID is 5 please take \"Interview\" test(s)\n"
     ]
    }
   ],
   "source": [
    "#what test should candidate take for each role? \n",
    "dft = get_data(\"TESTS\")\n",
    "for i in range(6):   \n",
    "    js = dft[dft[\"Role_ID\"] == i][\"Test_Used\"].to_json(orient = \"records\")[1:-1]\n",
    "    \n",
    "    print(\"If Role ID is\",i,\"please take\",js, \"test(s)\")\n",
    "    \n",
    "    #myquery = { \"Role_ID\": i }\n",
    "    #update = {\"test\"}"
   ]
  },
  {
   "cell_type": "code",
   "execution_count": null,
   "metadata": {},
   "outputs": [],
   "source": []
  },
  {
   "cell_type": "markdown",
   "metadata": {},
   "source": [
    "## 5. Backup SQL"
   ]
  },
  {
   "cell_type": "markdown",
   "metadata": {},
   "source": [
    "**backup**:"
   ]
  },
  {
   "cell_type": "code",
   "execution_count": null,
   "metadata": {},
   "outputs": [],
   "source": [
    "conn=sqlite3.connect('C:\\\\Users\\\\fl339\\\\OneDrive - University of Exeter\\\\Project\\\\HR Database\\\\RDBMS.db')\n",
    "\n",
    "file=open('HRdatabase_backup.sql','w')\n",
    "\n",
    "for line in conn.iterdump():\n",
    "        file.write('{}\\n'.format(line))\n",
    "        \n",
    "file.close()"
   ]
  },
  {
   "cell_type": "markdown",
   "metadata": {},
   "source": [
    "**restore**:"
   ]
  },
  {
   "cell_type": "code",
   "execution_count": null,
   "metadata": {},
   "outputs": [],
   "source": [
    "connRestore=sqlite3.connect('C:\\\\Users\\\\fl339\\\\OneDrive - University of Exeter\\\\Project\\\\HR Database\\\\RDBMS.db')\n",
    "\n",
    "file=open('BEMM459_backup.sql','r')\n",
    "qry=file.read()\n",
    "file.close()\n",
    "\n",
    "curRestore=connRestore.cursor()\n",
    "curRestore.executescript(qry)\n",
    "\n",
    "# call function (defined earlier) and pass connection object \n",
    "tables = tables_in_sqlite_db(connRestore)\n",
    "\n",
    "#print tables in the newly restored database\n",
    "print(tables)\n",
    "\n",
    "connRestore.close()"
   ]
  },
  {
   "cell_type": "markdown",
   "metadata": {},
   "source": []
  }
 ],
 "metadata": {
  "kernelspec": {
   "display_name": "Python 3",
   "language": "python",
   "name": "python3"
  },
  "language_info": {
   "codemirror_mode": {
    "name": "ipython",
    "version": 3
   },
   "file_extension": ".py",
   "mimetype": "text/x-python",
   "name": "python",
   "nbconvert_exporter": "python",
   "pygments_lexer": "ipython3",
   "version": "3.7.6"
  }
 },
 "nbformat": 4,
 "nbformat_minor": 2
}
